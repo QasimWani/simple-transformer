{
  "nbformat": 4,
  "nbformat_minor": 0,
  "metadata": {
    "colab": {
      "provenance": [],
      "authorship_tag": "ABX9TyMFdjrHlg/90b9snF/nJ9L2",
      "include_colab_link": true
    },
    "kernelspec": {
      "name": "python3",
      "display_name": "Python 3"
    },
    "language_info": {
      "name": "python"
    }
  },
  "cells": [
    {
      "cell_type": "markdown",
      "metadata": {
        "id": "view-in-github",
        "colab_type": "text"
      },
      "source": [
        "<a href=\"https://colab.research.google.com/github/QasimWani/simple-transformer/blob/main/transformers/scaling_softmax.ipynb\" target=\"_parent\"><img src=\"https://colab.research.google.com/assets/colab-badge.svg\" alt=\"Open In Colab\"/></a>"
      ]
    },
    {
      "cell_type": "code",
      "execution_count": 1,
      "metadata": {
        "id": "vidE-_jYp0El"
      },
      "outputs": [],
      "source": [
        "### Implement few ways of making softmax tractable for very large matrices\n",
        "\n",
        "### The following exercise, just for reproducibility sake was done on small arrays, but if you change: `complex_data` to: 4 x 16384 x 16384\n",
        "### ground_truth solution will take 2.3 seconds, naive_softmax will OOM, and block_online_softmax will take 14 seconds.\n",
        "### We do not expect to beat ground-truth because it implements a fused kernel underneath. The point of this exercise is to beat the vanilla\n",
        "### baseline which we do.\n",
        "\n",
        "\n",
        "import numpy as np\n",
        "import torch\n",
        "import torch.nn.functional as F\n",
        "import time\n",
        "\n",
        "import matplotlib.pyplot as plt"
      ]
    },
    {
      "cell_type": "code",
      "source": [
        "# Decorator to profile a function\n",
        "\n",
        "import functools\n",
        "\n",
        "def profile(func):\n",
        "    @functools.wraps(func)\n",
        "    def wrapper(*args, **kwargs):\n",
        "        start = time.perf_counter()\n",
        "        result = func(*args, **kwargs)\n",
        "        end = time.perf_counter()\n",
        "        print(f\"{func.__name__} took {end - start:.6f} seconds\")\n",
        "        return result, end - start\n",
        "    return wrapper"
      ],
      "metadata": {
        "id": "5w0KU5K-w7Wd"
      },
      "execution_count": 2,
      "outputs": []
    },
    {
      "cell_type": "code",
      "source": [
        "data = torch.randn(int(1e3))\n",
        "\n",
        "batch_size, q_seq_len, k_seq_len = 8, 2048, 8192\n",
        "complex_data = torch.randn(batch_size, q_seq_len, k_seq_len)"
      ],
      "metadata": {
        "id": "SDqdmn_bu0MJ"
      },
      "execution_count": 3,
      "outputs": []
    },
    {
      "cell_type": "code",
      "source": [
        "@profile\n",
        "def naive_softmax(data: torch.Tensor, safe_version:bool = False, dim: int = 0) -> torch.Tensor:\n",
        "  # exp(data) / ∑exp(data)\n",
        "  '''\n",
        "  3-pass solution\n",
        "  '''\n",
        "  _max = 0\n",
        "  if safe_version: # O(N)\n",
        "    _max, _ = data.max(dim=dim, keepdim=True)\n",
        "  exp = torch.exp(data - _max) # O(N)\n",
        "  return exp / torch.sum(exp, dim=dim, keepdim=True) # O(N)\n",
        "\n",
        "@profile\n",
        "def ground_truth(data: torch.Tensor, dim:int = 0):\n",
        "  return F.softmax(data, dim=dim)\n",
        "\n",
        "\n",
        "@profile\n",
        "def online_softmax(data: torch.Tensor, dim:int = 0):\n",
        "  '''\n",
        "  Computes Softmax in 2-pass instead of 3.\n",
        "  Simple 1-d function\n",
        "  '''\n",
        "  assert data.ndim == 1, f\"Use `fused_online_softmax` for multi-dimensional softmax calculation\"\n",
        "  global_max = float('-inf')\n",
        "  old_max = float('-inf')\n",
        "  # Pass-1: iterate through the array and find the local max and compute the denominator simultaneously\n",
        "  denom = 0\n",
        "  for i, x in enumerate(data):\n",
        "    global_max = max(global_max, x)\n",
        "    li = torch.exp(x - global_max)\n",
        "    correction_factor = torch.exp(old_max - global_max) # old_max - new_max.\n",
        "    # initially correction factor will be exp(-inf - 3) = exp(-inf) = 1\n",
        "    denom = denom * correction_factor + li\n",
        "    old_max = global_max\n",
        "\n",
        "  # Pass-2: compute exp\n",
        "  return torch.exp(data - global_max) / denom\n",
        "\n",
        "@profile\n",
        "def block_online_softmax(data: torch.Tensor, dim: int = -1, block_size: int = 512, modify_in_place: bool = True):\n",
        "    \"\"\"\n",
        "    Block-wise online softmax along `dim`.\n",
        "    Emulates the FlashAttention tiling idea: process in blocks,\n",
        "    keep running (m, s), then normalize in place.\n",
        "    \"\"\"\n",
        "\n",
        "    dim = dim % data.ndim\n",
        "    L = data.size(dim)\n",
        "\n",
        "    row_shape = list(data.shape)\n",
        "    del row_shape[dim]\n",
        "\n",
        "    # running stats\n",
        "    global_maximums = torch.full(row_shape, -float(\"inf\"), dtype=data.dtype, device=data.device)\n",
        "    denoms = torch.zeros(row_shape, dtype=data.dtype, device=data.device)\n",
        "\n",
        "    # buffer to hold all the values in-place\n",
        "    output = torch.empty_like(data) if not modify_in_place else data\n",
        "\n",
        "    # 1st-pass: process blocks, apply Kadane's Algorithm\n",
        "    for start in range(0, L, block_size):\n",
        "        end = min(start + block_size, L)\n",
        "        block = data.narrow(dim, start, end - start)  # shape: row_shape + [block]. narrow is just slicing operation x[start: end] but across dim of choice\n",
        "\n",
        "        # local max of this block per row\n",
        "        m_block, _ = block.max(dim=dim, keepdim=False)\n",
        "\n",
        "        # update running max\n",
        "        new_m = torch.maximum(global_maximums, m_block)\n",
        "\n",
        "        # rescale old sum into new reference by applying a correction factor\n",
        "        denoms = denoms * torch.exp(global_maximums - new_m)\n",
        "\n",
        "        # add contributions from this block\n",
        "        denoms = denoms + torch.sum(torch.exp(block - new_m.unsqueeze(dim)), dim=dim)\n",
        "\n",
        "        # Update buffer\n",
        "        output.narrow(dim, start, end - start).copy_(block)\n",
        "\n",
        "        global_maximums = new_m\n",
        "\n",
        "    # 2nd-pass: final normalization\n",
        "    for start in range(0, L, block_size):\n",
        "        end = min(start + block_size, L)\n",
        "        block = output.narrow(dim, start, end - start)\n",
        "        block_exp = torch.exp(block - global_maximums.unsqueeze(dim))\n",
        "        block.copy_(block_exp / denoms.unsqueeze(dim))\n",
        "\n",
        "    return output"
      ],
      "metadata": {
        "id": "bvugk7FSvI73"
      },
      "execution_count": 4,
      "outputs": []
    },
    {
      "cell_type": "code",
      "source": [
        "gt, gt_time = ground_truth(complex_data, dim=-1)\n",
        "naive_output, naive_time = naive_softmax(complex_data, safe_version=True, dim=-1)\n",
        "block_output, block_time = block_online_softmax(complex_data, dim=-1)\n",
        "# online_output, online_time = online_softmax(data) ### Simpler version of online_softmax that works for 1d array\n",
        "\n",
        "\n",
        "assert torch.tensor([torch.allclose(gt, x) for x in [gt, naive_output, block_output]]).all(), f\"Some of the results did not equal to the ground-truth solution\""
      ],
      "metadata": {
        "colab": {
          "base_uri": "https://localhost:8080/"
        },
        "id": "BJvtrfsSvJn2",
        "outputId": "1f897361-ab59-4f52-adfa-ec451a931ca7"
      },
      "execution_count": 5,
      "outputs": [
        {
          "output_type": "stream",
          "name": "stdout",
          "text": [
            "ground_truth took 0.606836 seconds\n",
            "naive_softmax took 1.493091 seconds\n",
            "block_online_softmax took 1.651427 seconds\n"
          ]
        }
      ]
    },
    {
      "cell_type": "code",
      "source": [
        "times = [gt_time, naive_time, block_time]\n",
        "labels = ['GT', 'Naive Sol.', 'Block Softmax']\n",
        "\n",
        "x = np.arange(len(times))\n",
        "bars = plt.bar(x, times)\n",
        "\n",
        "plt.title(\"Safe softmax variants\")\n",
        "plt.ylabel('Time (seconds)')\n",
        "plt.xlabel('Algorithm')\n",
        "plt.xticks(x, labels)\n",
        "\n",
        "# Add numbers on top of bars (2 sig digits)\n",
        "for bar, val in zip(bars, times):\n",
        "    plt.text(\n",
        "        bar.get_x() + bar.get_width() / 2,   # x-position (center of bar)\n",
        "        bar.get_height(),                   # y-position (top of bar)\n",
        "        f\"{val:.3g}\",                       # 2 sig digits\n",
        "        ha='center', va='bottom'            # center align horizontally, above bar\n",
        "    )\n",
        "\n",
        "plt.show()"
      ],
      "metadata": {
        "colab": {
          "base_uri": "https://localhost:8080/",
          "height": 472
        },
        "id": "PIGMr9el1G6z",
        "outputId": "f801d5de-d500-458a-888b-c5fb16153373"
      },
      "execution_count": 6,
      "outputs": [
        {
          "output_type": "display_data",
          "data": {
            "text/plain": [
              "<Figure size 640x480 with 1 Axes>"
            ],
            "image/png": "[encoded data removed]"
          },
          "metadata": {}
        }
      ]
    }
  ]
}