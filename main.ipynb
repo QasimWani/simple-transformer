{
 "cells": [
  {
   "cell_type": "code",
   "execution_count": 1,
   "id": "4dd545a2",
   "metadata": {},
   "outputs": [],
   "source": [
    "%load_ext autoreload\n",
    "%autoreload 2"
   ]
  },
  {
   "cell_type": "code",
   "execution_count": 2,
   "id": "521c5e4c",
   "metadata": {},
   "outputs": [],
   "source": [
    "from model import SimpleGPT, device\n",
    "from main import WikiTextDataset, get_wiki_dataloader, train, generate\n",
    "import torch"
   ]
  },
  {
   "cell_type": "code",
   "execution_count": 3,
   "id": "95e7607e",
   "metadata": {},
   "outputs": [
    {
     "name": "stderr",
     "output_type": "stream",
     "text": [
      "/home/qasim/.local/lib/python3.10/site-packages/datasets/load.py:1461: FutureWarning: The repository for wikipedia contains custom code which must be executed to correctly load the dataset. You can inspect the repository content at https://hf.co/datasets/wikipedia\n",
      "You can avoid this message in future by passing the argument `trust_remote_code=True`.\n",
      "Passing `trust_remote_code=True` will be mandatory to load this dataset from the next major release of `datasets`.\n",
      "  warnings.warn(\n"
     ]
    }
   ],
   "source": [
    "tr_ds = get_wiki_dataloader(subset_size=int(1e3))"
   ]
  },
  {
   "cell_type": "code",
   "execution_count": 4,
   "id": "b8d97782",
   "metadata": {},
   "outputs": [],
   "source": [
    "model = SimpleGPT().to(device)"
   ]
  },
  {
   "cell_type": "code",
   "execution_count": null,
   "id": "9e2ba3f3",
   "metadata": {},
   "outputs": [
    {
     "name": "stdout",
     "output_type": "stream",
     "text": [
      "step 50/10000.0  loss 9.4730  lr 3.00e-05\n",
      "step 100/10000.0  loss 7.9342  lr 6.00e-05\n",
      "step 150/10000.0  loss 7.2708  lr 9.00e-05\n",
      "step 200/10000.0  loss 7.0581  lr 1.20e-04\n",
      "step 250/10000.0  loss 6.8566  lr 1.50e-04\n",
      "step 300/10000.0  loss 6.6939  lr 1.80e-04\n",
      "step 350/10000.0  loss 6.3011  lr 2.10e-04\n",
      "step 400/10000.0  loss 5.7038  lr 2.40e-04\n",
      "step 450/10000.0  loss 5.4322  lr 2.70e-04\n",
      "step 500/10000.0  loss 5.5764  lr 3.00e-04\n"
     ]
    }
   ],
   "source": [
    "model = train(tr_ds, max_steps=1e4)"
   ]
  },
  {
   "cell_type": "code",
   "execution_count": null,
   "id": "5c6000cd",
   "metadata": {},
   "outputs": [],
   "source": [
    "generate(model, tr_ds.dataset.tokenizer, \"This book is about\")"
   ]
  }
 ],
 "metadata": {
  "kernelspec": {
   "display_name": "general",
   "language": "python",
   "name": "python3"
  },
  "language_info": {
   "codemirror_mode": {
    "name": "ipython",
    "version": 3
   },
   "file_extension": ".py",
   "mimetype": "text/x-python",
   "name": "python",
   "nbconvert_exporter": "python",
   "pygments_lexer": "ipython3",
   "version": "3.10.16"
  }
 },
 "nbformat": 4,
 "nbformat_minor": 5
}
